{
 "cells": [
  {
   "cell_type": "markdown",
   "metadata": {},
   "source": [
    "## Function to realize chi2_test"
   ]
  },
  {
   "cell_type": "markdown",
   "metadata": {},
   "source": [
    "data type is numpy"
   ]
  },
  {
   "cell_type": "code",
   "execution_count": 20,
   "metadata": {},
   "outputs": [],
   "source": [
    "import numpy as np\n",
    "import pandas as pd"
   ]
  },
  {
   "cell_type": "code",
   "execution_count": 21,
   "metadata": {},
   "outputs": [],
   "source": [
    "# input ([observed],[expected])\n",
    "def ch2_observed_expected(ox):\n",
    "    ex = ox[1]\n",
    "    ob = ox[0]\n",
    "    if len(ox[0]) != len(ox[1]):\n",
    "        return -1\n",
    "    chi2 = 0\n",
    "    for i in range(len(ex)):\n",
    "        chi2 = chi2 + (ex[i]-ob[i])**2/ex[i]\n",
    "    return chi2"
   ]
  },
  {
   "cell_type": "code",
   "execution_count": 22,
   "metadata": {},
   "outputs": [
    {
     "data": {
      "text/plain": [
       "0.72"
      ]
     },
     "execution_count": 22,
     "metadata": {},
     "output_type": "execute_result"
    }
   ],
   "source": [
    "ox = np.array([[28,22],[25,25]])\n",
    "ch2_observed_expected(ox)"
   ]
  },
  {
   "cell_type": "code",
   "execution_count": 45,
   "metadata": {},
   "outputs": [],
   "source": [
    "# input ([TT,TF],[FT,FF])\n",
    "def ch2_two_cat(category):\n",
    "    TT = category[0][0]\n",
    "    TF = category[0][1]\n",
    "    FT = category[1][0]\n",
    "    FF = category[1][1]\n",
    "    ex1 = (TT+FT)/(TT+TF+FT+FF)*(TT+TF)\n",
    "    ex2 = (TF+FF)/(TT+TF+FT+FF)*(TT+TF)\n",
    "    ex3 = (TT+FT)/(TT+TF+FT+FF)*(FT+FF)\n",
    "    ex4 = (TF+FF)/(TT+TF+FT+FF)*(FT+FF)\n",
    "    ch2 = (TT-ex1)**2/ex1 + (TF-ex2)**2/ex2 + (FT-ex3)**2/ex3 + (FF-ex4)**2/ex4\n",
    "    return ch2"
   ]
  },
  {
   "cell_type": "code",
   "execution_count": 46,
   "metadata": {},
   "outputs": [
    {
     "data": {
      "text/plain": [
       "1.0770949437632988"
      ]
     },
     "execution_count": 46,
     "metadata": {},
     "output_type": "execute_result"
    }
   ],
   "source": [
    "category = np.array([[43,96],[28,84]])\n",
    "ch2_two_cat(category)"
   ]
  },
  {
   "cell_type": "code",
   "execution_count": null,
   "metadata": {},
   "outputs": [],
   "source": []
  }
 ],
 "metadata": {
  "kernelspec": {
   "display_name": "Python 3",
   "language": "python",
   "name": "python3"
  },
  "language_info": {
   "codemirror_mode": {
    "name": "ipython",
    "version": 3
   },
   "file_extension": ".py",
   "mimetype": "text/x-python",
   "name": "python",
   "nbconvert_exporter": "python",
   "pygments_lexer": "ipython3",
   "version": "3.7.4"
  }
 },
 "nbformat": 4,
 "nbformat_minor": 2
}
